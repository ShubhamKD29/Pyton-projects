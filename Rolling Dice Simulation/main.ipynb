{
 "cells": [
  {
   "cell_type": "markdown",
   "id": "e754518d",
   "metadata": {},
   "source": [
    "## Rolling Dice simulation\n",
    "1. Use np.random.randint() to simulate rolling two dice 100 times.\n",
    "2. Count how many times each sum (2–12) appears."
   ]
  },
  {
   "cell_type": "code",
   "execution_count": 12,
   "id": "49d33ed3",
   "metadata": {},
   "outputs": [
    {
     "name": "stdout",
     "output_type": "stream",
     "text": [
      "List of how many times does outcome appeared\n",
      "\n",
      "2 has appeared 3 times\n",
      "3 has appeared 4 times\n",
      "4 has appeared 5 times\n",
      "5 has appeared 17 times\n",
      "6 has appeared 16 times\n",
      "7 has appeared 17 times\n",
      "8 has appeared 12 times\n",
      "9 has appeared 12 times\n",
      "10 has appeared 9 times\n",
      "11 has appeared 3 times\n",
      "12 has appeared 2 times\n"
     ]
    }
   ],
   "source": [
    "import numpy as np\n",
    "\n",
    "dice1 = np.random.randint(1, 7, 100)\n",
    "dice2 = np.random.randint(1, 7, 100)\n",
    "\n",
    "# Adding outcomes\n",
    "add = dice1 + dice2\n",
    "unique_adds, counts = np.unique(add, return_counts=True)\n",
    "\n",
    "print(\"List of how many times does outcome appeared\\n\")\n",
    "for unique_add, count in zip(unique_adds, counts):\n",
    "    print(f'{unique_add} has appeared {count} times')\n",
    "    "
   ]
  },
  {
   "cell_type": "markdown",
   "id": "ce2de186",
   "metadata": {},
   "source": [
    "# Conclusion\n",
    "\n",
    "In this project, I practiced using NumPy functions by simulating the rolling of two dice.\n",
    "\n",
    "- **np.random.randint()** → generates a NumPy array of random integers within a given range.  \n",
    "- **np.unique()** → returns the sorted unique values from an array.  \n",
    "- **np.unique(add, return_counts=True)** → additionally returns how many times each unique value appears.  \n",
    "- **zip(unique_adds, counts)** → pairs each unique value with its corresponding count, making it easy to loop through and display results.  \n",
    "\n",
    "This project helped me understand random number generation, array operations, and frequency counting in NumPy.\n"
   ]
  }
 ],
 "metadata": {
  "kernelspec": {
   "display_name": "base",
   "language": "python",
   "name": "python3"
  },
  "language_info": {
   "codemirror_mode": {
    "name": "ipython",
    "version": 3
   },
   "file_extension": ".py",
   "mimetype": "text/x-python",
   "name": "python",
   "nbconvert_exporter": "python",
   "pygments_lexer": "ipython3",
   "version": "3.12.7"
  }
 },
 "nbformat": 4,
 "nbformat_minor": 5
}
