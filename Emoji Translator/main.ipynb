{
 "cells": [
  {
   "cell_type": "markdown",
   "id": "9fcf1436",
   "metadata": {},
   "source": [
    "## Emoji Translator"
   ]
  },
  {
   "cell_type": "code",
   "execution_count": 1,
   "id": "b8470cf3",
   "metadata": {},
   "outputs": [],
   "source": [
    "emoji_dict = {\n",
    "    \"love\": \"❤️\",\n",
    "    \"pizza\": \"🍕\",\n",
    "    \"happy\": \"😊\",\n",
    "    \"sad\": \"😢\",\n",
    "    \"dog\": \"🐶\",\n",
    "    \"cat\": \"🐱\",\n",
    "    \"fire\": \"🔥\",\n",
    "    \"cool\": \"😎\",\n",
    "    \"sun\": \"☀️\",\n",
    "    \"moon\": \"🌙\"\n",
    "}"
   ]
  },
  {
   "cell_type": "code",
   "execution_count": 2,
   "id": "93defdf2",
   "metadata": {},
   "outputs": [],
   "source": [
    "def emoji_translator(sentence):\n",
    "    words = sentence.split()\n",
    "    translated = []\n",
    "\n",
    "    for word in words:\n",
    "        if word in emoji_dict:\n",
    "            translated.append(emoji_dict[word])\n",
    "        else:\n",
    "            translated.append(word)\n",
    "    return \" \".join(translated)"
   ]
  },
  {
   "cell_type": "code",
   "execution_count": 3,
   "id": "ea317603",
   "metadata": {},
   "outputs": [
    {
     "name": "stdout",
     "output_type": "stream",
     "text": [
      "i ❤️ 🍕\n",
      "i am 😎\n",
      "i ❤️ iron man\n",
      "🐱 and dogs\n"
     ]
    }
   ],
   "source": [
    "while True:\n",
    "    sentence = input(\"Enter a sentence(or 'quit' to stop):\").lower()\n",
    "    if sentence == 'quit':\n",
    "        break\n",
    "    else:\n",
    "        print(f'{emoji_translator(sentence)}')\n"
   ]
  }
 ],
 "metadata": {
  "kernelspec": {
   "display_name": "base",
   "language": "python",
   "name": "python3"
  },
  "language_info": {
   "codemirror_mode": {
    "name": "ipython",
    "version": 3
   },
   "file_extension": ".py",
   "mimetype": "text/x-python",
   "name": "python",
   "nbconvert_exporter": "python",
   "pygments_lexer": "ipython3",
   "version": "3.12.7"
  }
 },
 "nbformat": 4,
 "nbformat_minor": 5
}
