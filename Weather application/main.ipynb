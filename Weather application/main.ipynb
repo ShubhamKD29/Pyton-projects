{
 "cells": [
  {
   "cell_type": "markdown",
   "id": "61104b4a",
   "metadata": {},
   "source": [
    "## Weather Application"
   ]
  },
  {
   "cell_type": "code",
   "execution_count": 23,
   "id": "8f3e3e4c",
   "metadata": {},
   "outputs": [],
   "source": [
    "from tkinter import *\n",
    "from tkinter import messagebox as mb\n",
    "import requests\n",
    "from PIL import Image\n",
    "from datetime import datetime\n",
    "\n",
    "root = Tk()\n",
    "root.title('Weather application')\n",
    "root.geometry('700x450') \n",
    "root.configure(bg='grey')\n",
    "\n",
    "title = Label(root, text='Weather report and forecast', fg='yellow', bg='royal blue1', font=(\"bold\", 15))\n",
    "title.pack(pady=10)\n",
    "root.mainloop()"
   ]
  }
 ],
 "metadata": {
  "kernelspec": {
   "display_name": "base",
   "language": "python",
   "name": "python3"
  },
  "language_info": {
   "codemirror_mode": {
    "name": "ipython",
    "version": 3
   },
   "file_extension": ".py",
   "mimetype": "text/x-python",
   "name": "python",
   "nbconvert_exporter": "python",
   "pygments_lexer": "ipython3",
   "version": "3.12.7"
  }
 },
 "nbformat": 4,
 "nbformat_minor": 5
}
