{
 "cells": [
  {
   "cell_type": "markdown",
   "id": "61104b4a",
   "metadata": {},
   "source": [
    "## Weather Application"
   ]
  },
  {
   "cell_type": "code",
   "execution_count": 29,
   "id": "8f3e3e4c",
   "metadata": {},
   "outputs": [
    {
     "name": "stdout",
     "output_type": "stream",
     "text": [
      "The weather in MUMBAI is: Clouds\n",
      "The temperature in MUMBAI is: 27°C\n"
     ]
    }
   ],
   "source": [
    "import requests\n",
    "from config import API_KEY \n",
    "api_key = API_KEY \n",
    "\n",
    "user_input = input(\"Enter city name:\")\n",
    "weather_data = requests.get(f'https://api.openweathermap.org/data/2.5/weather?q={user_input},IN&appid={api_key}&units=metric')\n",
    "\n",
    "if weather_data.json()['cod'] == '404':\n",
    "    print(\"NO CITY FOUND !\")\n",
    "else:\n",
    "    weather = weather_data.json()['weather'][0]['main']\n",
    "    temp = round(weather_data.json()['main']['temp'])\n",
    "    print(f'The weather in {user_input} is: {weather}')\n",
    "    print(f'The temperature in {user_input} is: {temp}\\u00B0C')\n",
    "\n"
   ]
  }
 ],
 "metadata": {
  "kernelspec": {
   "display_name": "base",
   "language": "python",
   "name": "python3"
  },
  "language_info": {
   "codemirror_mode": {
    "name": "ipython",
    "version": 3
   },
   "file_extension": ".py",
   "mimetype": "text/x-python",
   "name": "python",
   "nbconvert_exporter": "python",
   "pygments_lexer": "ipython3",
   "version": "3.12.7"
  }
 },
 "nbformat": 4,
 "nbformat_minor": 5
}
